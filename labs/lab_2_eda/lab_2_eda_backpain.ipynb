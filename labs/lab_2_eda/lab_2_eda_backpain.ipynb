{
 "cells": [
  {
   "cell_type": "markdown",
   "metadata": {},
   "source": [
    "### Cleaning and EDA of Back Pain Data Set\n",
    "\n",
    "Jay Urbain, PhD\n",
    "\n",
    "#### Basic EDA workflow\n",
    "\n",
    "(From the lecture, repeated here for convenience).\n",
    "\n",
    "The basic workflow is as follows:\n",
    "\n",
    "1. **Build** a DataFrame from the data (ideally, put all data in this object)\n",
    "2. **Clean** the DataFrame. It should have the following properties:\n",
    "    - Each row describes a single object\n",
    "    - Each column describes a property of that object\n",
    "    - Columns are numeric whenever appropriate\n",
    "    - Columns contain atomic properties that cannot be further decomposed\n",
    "3. Explore **global properties**. Use histograms, scatter plots, and aggregation functions to summarize the data.\n",
    "4. Explore **group properties**. Use groupby and small multiples to compare subsets of the data.\n",
    "\n",
    "This process transforms your data into a format which is easier to work with, gives you a basic overview of the data's properties, and likely generates several questions for you to followup in subsequent analysis.\n",
    "\n",
    "Topics:\n",
    "<ol start=\"0\">\n",
    "<li> Goals </li>\n",
    "<li> Loading and Cleaning with Pandas</li>\n",
    "<li> Asking Questions?  </li>\n",
    "<li> Parsing and Completing the Dataframe  </li>\n",
    "<li> EDA  </li>\n",
    "</ol>\n",
    "\n",
    "A description of the data set follows:"
   ]
  },
  {
   "cell_type": "markdown",
   "metadata": {},
   "source": [
    "#### Back Pain Data Analysis\n",
    "\n",
    "Jay Urbain, PhD  \n",
    "Meredith Adams, MD  \n",
    "\n",
    "11/23/2016\n",
    "\n",
    "Integration of statistical analysis and machine learning methods to identify factors associated with opioid prescribing in NIH research standards for Low Back Pain survey data: a pilot analysis.\n",
    "\n",
    "<a href=\"cLBP_RTF_MinimalDataset.pdf\">Standford Back Pain Survey</a>.\n",
    "\n",
    "<a href=\"data/stanford low back pain survey data.csv\">Data set</a> (csv).\n",
    "\n",
    "#### Introduction:\n",
    "\n",
    "The recent development of research standards for low back pain (NIH LBP taskforce reference) creates an opportunity for prospective data standardization. Ultimately, the goal of this standardized data collection is to better understand patterns for treatment response and build predictive care models. While the impact of aggregate data will depend on large-scale integration, the focus of this study is to better understand the relationship and predictive ability of the survey variables, specifically examining predictors of opioid use. \n",
    "Clinical research is evolving to reflect the need for efficient clinical trial design and data collection, which is reflected by the move toward improved data standardization. A key component of this is adaptive statistical designs and analysis methods. The expert consensus panel developed the NIH task force for research standards questionnaire (LBPTF) to overcome common research barriers while addressing the underlying key clinical questions for low back pain. Specifically, it shifted the focus from anatomic or pathophysiological classification to that of pain interference, functional status, and pain intensity. This focused questionnaire measures these domains using several short forms from PROMIS (Patient-Reported Outcome Measurement Information System).\n",
    "\n",
    "The novel organizational framework of the LBPTF questionnaire incorporates key clinical self-report measures as well as information about co-morbid conditions, demographic information, and treatment history. Understanding the co-occurence patterns of these data may provide insight into more focused data collection as well as build toward predictive modeling. The inherent limitations of self-reported data are mitigated by the extensive development of the minimum data set variables to incorporate key perceived domains of influence.\n",
    "\n",
    "Building from this perspective, the objective of this pilot survey was to deconstruct and analyze the inter-relationship of these variables in a way that will provide more meaningful analysis of these data moving forward. Statistical analysis and interpretation can be misleading due to inherent data assumptions, but with the data points selected by expert consensus, this minimum dataset represents the starting point for analyzing these relationships. Recognizing the limitations of a survey snapshot, we planned iterative analyses of a pilot survey obtained during the LBPTF with several statistical and machine learning methods to validate our approach.\n",
    "\n"
   ]
  },
  {
   "cell_type": "markdown",
   "metadata": {},
   "source": [
    "#### Legend\n",
    "\n",
    "Here is a description of the data:\n",
    "\n",
    "DUR - 1. How long has low-back pain been an ongoing problem for you?  \n",
    "FREQ - 2. How often has low-back pain been an ongoing problem for you over the past 6 months?    \n",
    "NRS - 3. In the past 7 days, how would you rate your low-back pain on average?  \n",
    "RAD - 4. Has back pain spread down your leg(s) during the past 2 weeks? (radiculopathy)  \n",
    "PIDAY - 9. How much did pain interfere with your day-to-day activities?  \n",
    "PIWORK - 10. How much did pain interfere with work around the home?  \n",
    "PPISOC - 11. How much did pain interfere with your ability to participate in social activities?  \n",
    "PICHOR - 12. How much did pain interfere with your household chores?  \n",
    "LBS - 6. Have you ever had a low-back operation?   \n",
    "LBST - 7. If yes, when was your last back operation?  \n",
    "FUS - 8. Did any of your back operations involve a spinal fusion?    \n",
    "OPI - 13. Opioid painkillers, have you used for your back pain?  \n",
    "INJ - 13. Injections such as epidural steroid injections, facet injections, have you used for your back pain?  \n",
    "EXE - 13. Exercise therapy, have you used for your back pain?  \n",
    "PSY - 13. Psychological counseling, have you used for your back pain?  \n",
    "UNEMP - 14. I have been off work or unemployed for 1 month or more due to low-back pain.   \n",
    "DIS - 15. I receive or have applied for disability or workers’ compensation benefits because I am unable to work due to low-back pain.  \n",
    "ABD - 5. Stomach pain  \n",
    "JOI - 5. Pain in your arms, legs, or joints other than your spine or back  \n",
    "HEA - 5. Headaches # Widespread pain or pain in most of your body??  \n",
    "FIB - 15. I receive or have applied for disability benefits because I am unable to work dueto low-back pain.  \n",
    "CHOR - 16. Are you able to do chores such as vacuuming or yard work?  \n",
    "STAIR - 17. Are you able to go up and down stairs at a normal pace?  \n",
    "W15 - 18. Are you able to go for a walk of at least 15 minutes?  \n",
    "ERANDS 19. Are you able to run errands and shop?  \n",
    "WORTH -, 20. In the past 7 days, I felt worthless.  \n",
    "HELPL,  21. In the past 7 days, I felt helpless.  \n",
    "DEPRES -  22. In the past 7 days, I felt depressed.  \n",
    "HOPEL -  23.  In the past 7 days, I felt hopeless.  \n",
    "SLEEPQ - 24.  In the past 7 days, my sleep quality was (choices)  \n",
    "SREFR - 25.  In the past 7 days, my sleep was refreshing.  \n",
    "SPROB - 26.  In the past 7 days, I had a problem with my sleep.  \n",
    "SONSET - 27. I had difficulty falling asleep  \n",
    "CAT.SAFE - 28.  It’s not really safe for a person with my back problem to be physically active.  \n",
    "CAT.NEVER, 29.  I feel that my back pain is terrible and it’s never going to get any better.  \n",
    "LIT,  30.  Are you involved in a lawsuit or legal claim related to your back problem?  \n",
    "AS -  \n",
    "ETOH  - 31. Have you drunk or used drugs more than you meant to?  \n",
    "SAHELP – 32. Have you felt you wanted or needed to cut down on your drinking or drug use?   \n",
    "AGE - 33. Age: years (0–120)   \n",
    "SEX - 34. Gender (Male/Female/Unknown/Unspecified)  \n",
    "HIS – 35. Hispanic or Latino/Not H or L/Unknown/Unreported)  \n",
    "NAT - Native American  \n",
    "ASA - Asian  \n",
    "BL - Black or African American  \n",
    "PAC - Native Hawaiian or Pacific Islander  \n",
    "W -  White  \n",
    "UNK - Unknown  \n",
    "NA. – Not reported  \n",
    "EMP - 37. Employment Status  \n",
    "EDU - 38. Education Level: (select the highest level attained)   \n",
    "SMOK - 39. How would you describe your cigarette smoking?   \n",
    "HT - 40. Height  \n",
    "WT - 40. Weight  \n",
    "RACE - 36.  \n",
    "PI - ??  \n",
    "FUN - ??  \n",
    "DEP - 22. ??  \n",
    "SLEEP - 24. ??  \n"
   ]
  },
  {
   "cell_type": "markdown",
   "metadata": {},
   "source": [
    "#### 1. Loading the data and cleaning with Pandas\n",
    "\n",
    ">**1.0 Question**:  \n",
    "1 - Import the appropriate libraries: pandas, numpy, and matplotlib  \n",
    "2 - Read  in `\"data/stanford low back pain survey data.csv\"` into a pandas dataframe  \n",
    "3 - Display the first `5` lines of the dataframe  \n",
    "4 - Display the shape of the dataframe  \n",
    "5 - Report any issues you found with the data and how you resolved them!  "
   ]
  },
  {
   "cell_type": "code",
   "execution_count": null,
   "metadata": {},
   "outputs": [],
   "source": [
    "# your work here\n",
    "%matplotlib inline \n"
   ]
  },
  {
   "cell_type": "markdown",
   "metadata": {},
   "source": [
    "#### 2. Reveiw the  data"
   ]
  },
  {
   "cell_type": "code",
   "execution_count": null,
   "metadata": {},
   "outputs": [],
   "source": [
    "import warnings\n",
    "warnings.filterwarnings('ignore')\n",
    "\n",
    "# show column distributions\n",
    "print(df.describe())"
   ]
  },
  {
   "cell_type": "markdown",
   "metadata": {},
   "source": [
    "Since the data set has a large number of columns, you can use slicing to review sets of columns at a time. "
   ]
  },
  {
   "cell_type": "code",
   "execution_count": null,
   "metadata": {},
   "outputs": [],
   "source": [
    "# dislay\n",
    "df.iloc[0:10, 0:15]"
   ]
  },
  {
   "cell_type": "markdown",
   "metadata": {},
   "source": [
    ">**2.0 Question**: \n",
    "Using the description of the columns above, explore all columns in the dataset.  \n",
    "1 - Report all issues you found with the dataset  \n",
    "2 - Correct the issues in your dataframe  \n",
    "3 - df.head()\n",
    "\n",
    "Hints:  \n",
    "To get a sense of how many missing values there are in the dataframe.  \n",
    "`np.sum([df.rating.isnull()])`  \n",
    "\n",
    "To drop columns in the dataframe.  \n",
    "`df=df.drop(['HIS'])`"
   ]
  },
  {
   "cell_type": "markdown",
   "metadata": {},
   "source": [
    "#### 2.0 Solution"
   ]
  },
  {
   "cell_type": "code",
   "execution_count": null,
   "metadata": {},
   "outputs": [],
   "source": [
    "# work here\n"
   ]
  },
  {
   "cell_type": "markdown",
   "metadata": {},
   "source": [
    "Check the data types\n"
   ]
  },
  {
   "cell_type": "code",
   "execution_count": null,
   "metadata": {},
   "outputs": [],
   "source": [
    "df.dtypes"
   ]
  },
  {
   "cell_type": "markdown",
   "metadata": {},
   "source": [
    "Notice that many of the columns have integer or floating point numeric types which are not approprate.\n",
    "\n",
    ">**2.1 Question**:   \n",
    "1 - Using the description of the columns above, set the columns to the correct data type  \n",
    "2 - Re-check the data types  \n",
    "3 - df.head()\n",
    "\n",
    "Hint:  \n",
    "`df['PIWORK']=df['PIWORK'].astype('int')`  \n",
    "`df['LBS']=df['LBS'].astype('category')`"
   ]
  },
  {
   "cell_type": "code",
   "execution_count": null,
   "metadata": {},
   "outputs": [],
   "source": [
    "# Your work here\n",
    "\n",
    "\n"
   ]
  },
  {
   "cell_type": "markdown",
   "metadata": {},
   "source": [
    "####  3: Asking Questions  \n",
    "\n",
    ">**3.0 Question**:  \n",
    "Think of few questions we want to ask and then examine the data and decide if the dataframe contains what you need to address these questions. \n",
    "\n",
    "**Example:** Is there a relationship between x and y? What's important in this dataset?\n"
   ]
  },
  {
   "cell_type": "markdown",
   "metadata": {},
   "source": [
    "Your answer here:\n",
    "\n",
    "\n"
   ]
  },
  {
   "cell_type": "markdown",
   "metadata": {},
   "source": [
    "#### 3.0 Solution\n",
    "\n",
    "**Example:** Is there a relationship between opioid use and depression? What about joint pain?Does surgery help? What survey results have the most responses?"
   ]
  },
  {
   "cell_type": "markdown",
   "metadata": {
    "collapsed": true
   },
   "source": [
    "#### 4. Preliminary Data analysis\n"
   ]
  },
  {
   "cell_type": "markdown",
   "metadata": {},
   "source": [
    "#### Data distribution\n",
    "\n",
    "Note: distribution will not properly reflect categorical attributes."
   ]
  },
  {
   "cell_type": "code",
   "execution_count": null,
   "metadata": {},
   "outputs": [],
   "source": [
    "df.describe()"
   ]
  },
  {
   "cell_type": "markdown",
   "metadata": {},
   "source": [
    "#### Histogram of patients by age\n",
    "\n",
    "Histograms are useful for providing the distribution of continuous features.\n",
    "\n",
    ">**4.0 Question**:  \n",
    "Provide a histogram of `AGE` using 10 bins.\n"
   ]
  },
  {
   "cell_type": "code",
   "execution_count": null,
   "metadata": {},
   "outputs": [],
   "source": [
    "# your work here\n"
   ]
  },
  {
   "cell_type": "code",
   "execution_count": null,
   "metadata": {},
   "outputs": [],
   "source": [
    "# Solution \n"
   ]
  },
  {
   "cell_type": "markdown",
   "metadata": {},
   "source": [
    "We would now like to analyze the data along the following medical categories:  \n",
    "- Physical function\n",
    "- Pain intensity  \n",
    "- Pain interferance\n",
    "\n",
    "Each category is defined by multiple attributes/columns as described below."
   ]
  },
  {
   "cell_type": "markdown",
   "metadata": {},
   "source": [
    "#### Physical Function\n",
    "\n",
    "CHOR - 16. Are you able to do chores such as vacuuming or yard work?  \n",
    "STAIR - 17. Are you able to go up and down stairs at a normal pace?  \n",
    "W15 - 18. Are you able to go for a walk of at least 15 minutes?  \n",
    "ERANDS 19. Are you able to run errands and shop?  \n",
    "\n",
    "#### Tabulation of patients by physical funciton"
   ]
  },
  {
   "cell_type": "code",
   "execution_count": null,
   "metadata": {},
   "outputs": [],
   "source": [
    "result = df[['CHOR','STAIR','W15','ERANDS']].apply(pd.value_counts).fillna(0).T\n",
    "result.index=['Chores','Up/down stairs','Walk 15 min.','Erands']\n",
    "result.columns=['NA','w/ difficulty','w/ a little difficulty','w/ some difficulty','w/ much difficulty','Unable to do so']\n",
    "pd.options.display.float_format = '{:,.0f}'.format\n",
    "\n",
    "# cross tabulated result\n",
    "result"
   ]
  },
  {
   "cell_type": "markdown",
   "metadata": {},
   "source": [
    "#### Bar plot of number of patient by physical function"
   ]
  },
  {
   "cell_type": "code",
   "execution_count": null,
   "metadata": {},
   "outputs": [],
   "source": [
    "import matplotlib\n",
    "import matplotlib.pyplot as plt\n",
    "matplotlib.style.use('ggplot')\n",
    "\n",
    "# horizontal bar plot\n",
    "plt=result.plot.barh(title=\"Physical Function\")\n",
    "plt.set_xlabel(\"Number of patients\")\n",
    "plt.legend(loc='center left', bbox_to_anchor=(1, 0.5))\n",
    "plt\n",
    "\n",
    "# horizontal bar plot stacked\n",
    "#result.plot.barh(title=\"Physical Function\", stacked=True).legend(loc='center left', bbox_to_anchor=(1, 0.5))"
   ]
  },
  {
   "cell_type": "markdown",
   "metadata": {},
   "source": [
    "#### Box plot showing distribution of patients by physical function"
   ]
  },
  {
   "cell_type": "code",
   "execution_count": null,
   "metadata": {},
   "outputs": [],
   "source": [
    "# Boxplot\n",
    "fig = matplotlib.pyplot.gcf()\n",
    "fig.set_size_inches(12, 6)\n",
    "fig.suptitle('Physical Function', fontsize=12)\n",
    "plt = result.boxplot()"
   ]
  },
  {
   "cell_type": "markdown",
   "metadata": {},
   "source": [
    "#### Are the distriubutions of physical function categories affected by opioid pain killers?\n",
    "\n",
    "We can use the `chi-squared` statistic to test the distribution of sample categorical data matches an expected distribution. "
   ]
  },
  {
   "cell_type": "markdown",
   "metadata": {},
   "source": [
    "#### Pain chi-squared goodness-of-fit test\n",
    "    \n",
    "Tests whether the distribution of sample categorical data matches an expected distribution.\n",
    "Chi-squared tests are based on the so-called `chi-squared statistic`. You calculate the chi-squared statistic with the following formula: \n",
    "\n",
    "$sum\\Big(\\dfrac{(observed−expected)^2}{expected}\\Big)$  \n",
    "\n",
    "\n",
    "In the formula, observed is the actual observed count for each category and expected is the expected count based on the distribution of the population for the corresponding category. We can use this to see if the value of any factor (categorical) attribute affects the distribution of another attribute. For the purposes of this analysis we will assume the \"population\" is represented by the entire survey sample."
   ]
  },
  {
   "cell_type": "code",
   "execution_count": null,
   "metadata": {},
   "outputs": [],
   "source": [
    "import numpy as np\n",
    "import pandas as pd\n",
    "import scipy.stats as stats\n",
    "\n",
    "result_population = df[['CHOR','STAIR','W15','ERANDS']].apply(pd.value_counts).fillna(0)\n",
    "df_observed = df.loc[df['OPI']==1]             \n",
    "result_observed = df_observed[['CHOR','STAIR','W15','ERANDS']].apply(pd.value_counts).fillna(0)\n",
    "\n",
    "# remove small values (Category 0)\n",
    "result_population = result_population[1:]\n",
    "result_observed = result_observed[1:]\n",
    "\n",
    "print(\"Population (1='Not at all' -> 5 'Very much')\")\n",
    "print( result_population )\n",
    "print()\n",
    "print(\"Observed with OPI=1\")\n",
    "print( result_observed ) \n",
    "\n",
    "print()\n",
    "print(\"Remove CHOR - can not use zero values for chi-squared\")\n",
    "result_population = result_population[['STAIR','W15','ERANDS']]\n",
    "result_observed = result_observed[['STAIR','W15','ERANDS']]\n",
    "\n",
    "print(\"Population (1='Not at all' -> 5 'Very much')\")\n",
    "print( result_population )\n",
    "print()\n",
    "print(\"Observed with OPI=1\")\n",
    "print( result_observed ) \n",
    "\n",
    "# Get observed counts\n",
    "print()\n",
    "print(\"Chi statistic, p-values for 'STAIR','W15','ERANDS'\")\n",
    "print ( stats.chisquare(f_obs= result_observed,   # Array of observed counts\n",
    "                f_exp= result_population) )  # Array of expected counts"
   ]
  },
  {
   "cell_type": "markdown",
   "metadata": {},
   "source": [
    "*The use of opioid painkillers is statistically significant (all p-values << 0.05) for altering the distribution of all categories of physical function sans 'CHOR'*"
   ]
  },
  {
   "cell_type": "markdown",
   "metadata": {},
   "source": [
    "#### Pain Interference\n",
    "\n",
    "PIDAY - 9. How much did pain interfere with your day-to-day activities?  \n",
    "PIWORK - 10. How much did pain interfere with work around the home?  \n",
    "PPISOC - 11. How much did pain interfere with your ability to participate in social activities?  \n",
    "PICHOR - 12. How much did pain interfere with your household chores? \n",
    "\n"
   ]
  },
  {
   "cell_type": "markdown",
   "metadata": {},
   "source": [
    ">**4.1 Question**:  \n",
    "1 - Replicate the analysis of physical function for physical interference. \n",
    "2 - Determine if the chi-squared statistic is significant  "
   ]
  },
  {
   "cell_type": "markdown",
   "metadata": {},
   "source": [
    "#### Tabulation of patients by physical interference"
   ]
  },
  {
   "cell_type": "code",
   "execution_count": null,
   "metadata": {},
   "outputs": [],
   "source": [
    "# Tabulation work here\n",
    "\n"
   ]
  },
  {
   "cell_type": "code",
   "execution_count": null,
   "metadata": {},
   "outputs": [],
   "source": [
    "# solution\n"
   ]
  },
  {
   "cell_type": "markdown",
   "metadata": {},
   "source": [
    "#### Bar plot of number of patients by pain interference"
   ]
  },
  {
   "cell_type": "code",
   "execution_count": null,
   "metadata": {},
   "outputs": [],
   "source": [
    "# bar plot work here"
   ]
  },
  {
   "cell_type": "code",
   "execution_count": null,
   "metadata": {},
   "outputs": [],
   "source": [
    "# solution\n"
   ]
  },
  {
   "cell_type": "markdown",
   "metadata": {},
   "source": [
    "#### Box plot showing distribution of patients by pain interference"
   ]
  },
  {
   "cell_type": "code",
   "execution_count": null,
   "metadata": {},
   "outputs": [],
   "source": [
    "# box plot work here\n"
   ]
  },
  {
   "cell_type": "code",
   "execution_count": null,
   "metadata": {},
   "outputs": [],
   "source": [
    "# solution\n",
    "\n"
   ]
  },
  {
   "cell_type": "markdown",
   "metadata": {
    "collapsed": true
   },
   "source": [
    "#### Are the distriubutions of pain interferance categories affected by opioid pain killers?"
   ]
  },
  {
   "cell_type": "code",
   "execution_count": null,
   "metadata": {},
   "outputs": [],
   "source": [
    "# chi-squared work here"
   ]
  },
  {
   "cell_type": "code",
   "execution_count": null,
   "metadata": {},
   "outputs": [],
   "source": [
    "# solution\n",
    "\n"
   ]
  },
  {
   "cell_type": "markdown",
   "metadata": {},
   "source": [
    "*The use of opioid painkillers is statistically significant (all p-values << 0.05) for altering the distribution of all categories of pain interference.*"
   ]
  },
  {
   "cell_type": "markdown",
   "metadata": {},
   "source": [
    "### Pain Intensity\n",
    "\n",
    "NRS - 3. In the past 7 days, how would you rate your low-back pain on average?\n",
    "\n",
    ">**4.2 Question**:  \n",
    "1 - Replicate the analysis for pain intensity. \n",
    "2 - Determine if the chi-squared statistic is significant  "
   ]
  },
  {
   "cell_type": "markdown",
   "metadata": {},
   "source": [
    "#### Tabulation of patients by pain intensity"
   ]
  },
  {
   "cell_type": "code",
   "execution_count": null,
   "metadata": {},
   "outputs": [],
   "source": [
    "# tabulation work here\n"
   ]
  },
  {
   "cell_type": "markdown",
   "metadata": {},
   "source": [
    "#### Bar plot of number of patient by pain intensity"
   ]
  },
  {
   "cell_type": "code",
   "execution_count": null,
   "metadata": {},
   "outputs": [],
   "source": [
    "# bar plot work here\n"
   ]
  },
  {
   "cell_type": "markdown",
   "metadata": {},
   "source": [
    "#### Is the distriubution of pain intensity categories affected by opioid pain killers?"
   ]
  },
  {
   "cell_type": "code",
   "execution_count": null,
   "metadata": {},
   "outputs": [],
   "source": [
    "# chi-squared work here\n"
   ]
  },
  {
   "cell_type": "markdown",
   "metadata": {},
   "source": [
    "*The use of opioid painkillers is statistically significant (all p-values << 0.05) for altering the distribution of all categories of pain intensity.*"
   ]
  },
  {
   "cell_type": "markdown",
   "metadata": {},
   "source": [
    "#### Comparitive analysis of duration, frequency, pain intensity, and raduculopathy"
   ]
  },
  {
   "cell_type": "markdown",
   "metadata": {},
   "source": [
    "DUR - 1. How long has low-back pain been an ongoing problem for you?  \n",
    "FREQ-2. How often has low-back pain been an ongoing problem for you over the past 6 months?  \n",
    "NRS - 3. In the past 7 days, how would you rate your low-back pain on average?  \n",
    "RAD - 4. Has back pain spread down your leg(s) during the past 2 weeks? (radiculopathy)"
   ]
  },
  {
   "cell_type": "code",
   "execution_count": null,
   "metadata": {},
   "outputs": [],
   "source": [
    "import matplotlib\n",
    "import matplotlib.pyplot as plt\n",
    "matplotlib.style.use('ggplot')\n",
    "\n",
    "'''\n",
    "['ID', 'DUR', 'FREQ', 'NRS', 'RAD', 'PIDAY', 'PIWORK', 'PPISOC',\n",
    "       'PICHOR', 'LBS', 'OPI', 'INJ', 'EXE', 'PSY', 'UNEMP', 'DIS', 'ABD',\n",
    "       'JOI', 'HEA', 'FIB', 'CHOR', 'STAIR', 'W15', 'ERANDS', 'WORTHL',\n",
    "       'HELPL', 'DEPRES', 'HOPEL', 'SLEEPQ', 'SREFR', 'SPROB', 'SONSET',\n",
    "       'CAT.SAFE', 'CAT.NEVER', 'LIT', 'AS', 'ETOH', 'SAHELP', 'AGE', 'SEX',\n",
    "       'EMP', 'EDU', 'HT', 'WT', 'RACE', 'PI', 'FUN', 'DEP', 'SLEEP']\n",
    "'''\n",
    "fig, ax = plt.subplots(2,2)\n",
    "# plt.subplots_adjust(10,10)\n",
    "fig.set_size_inches(6, 6)\n",
    "# ax.set_title('How long has low-back pain been an ongoing problem for you?')\n",
    "df[['DUR', 'ID']].groupby(['DUR']).count().plot.bar(ax=ax[0][0], stacked=False, color='r')\n",
    "ax[0][0].set_title('DUR')\n",
    "ax[0][0].legend_.remove()\n",
    "ax[0][0].set_ylabel('N')\n",
    "ax[0][0].set_xlabel('')\n",
    "\n",
    "df[['FREQ', 'ID']].groupby(['FREQ']).count().plot.bar(ax=ax[0][1], stacked=False, color='g')\n",
    "ax[0][1].set_title('FREQ')\n",
    "ax[0][1].legend_.remove()\n",
    "#ax[0][1].set_ylabel('N')\n",
    "ax[0][1].set_xlabel('')\n",
    "\n",
    "df[['NRS', 'ID']].groupby(['NRS']).count().plot.bar(ax=ax[1][0], stacked=False, color='b')\n",
    "ax[1][0].set_title('NRS')\n",
    "ax[1][0].legend_.remove()\n",
    "ax[1][0].set_ylabel('N')\n",
    "ax[1][0].set_xlabel('')\n",
    "\n",
    "df[['RAD', 'ID']].groupby(['RAD']).count().plot.bar(ax=ax[1][1], stacked=False, color='k')\n",
    "ax[1][1].set_title('RAD')\n",
    "ax[1][1].legend_.remove()\n",
    "# ax[1][1].set_ylabel('N')\n",
    "ax[1][1].set_xlabel('')"
   ]
  },
  {
   "cell_type": "markdown",
   "metadata": {},
   "source": [
    "#### Tabulation of duration, frequency, and pain intensity"
   ]
  },
  {
   "cell_type": "code",
   "execution_count": null,
   "metadata": {},
   "outputs": [],
   "source": [
    "df[['DUR','FREQ','NRS']].describe()"
   ]
  },
  {
   "cell_type": "markdown",
   "metadata": {},
   "source": [
    "#### Distribution for raduculopathy"
   ]
  },
  {
   "cell_type": "code",
   "execution_count": null,
   "metadata": {},
   "outputs": [],
   "source": [
    "df[['RAD']].describe()"
   ]
  },
  {
   "cell_type": "markdown",
   "metadata": {
    "collapsed": true
   },
   "source": [
    ">**4.3 Question**:  \n",
    "Provide a terse description of the distribution for:  \n",
    "- DUR  \n",
    "- FREQ  \n",
    "- NRS  \n",
    "- RAD  "
   ]
  },
  {
   "cell_type": "code",
   "execution_count": null,
   "metadata": {},
   "outputs": [],
   "source": []
  }
 ],
 "metadata": {
  "kernelspec": {
   "display_name": "Python [conda env:py3.6tf1.3keras]",
   "language": "python",
   "name": "conda-env-py3.6tf1.3keras-py"
  },
  "language_info": {
   "codemirror_mode": {
    "name": "ipython",
    "version": 3
   },
   "file_extension": ".py",
   "mimetype": "text/x-python",
   "name": "python",
   "nbconvert_exporter": "python",
   "pygments_lexer": "ipython3",
   "version": "3.6.4"
  }
 },
 "nbformat": 4,
 "nbformat_minor": 1
}
