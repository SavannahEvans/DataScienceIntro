{
 "cells": [
  {
   "cell_type": "markdown",
   "metadata": {},
   "source": [
    "#### Subsequence mining of frequent temporal patterns\n",
    "\n",
    "Jay Urbain, PhD"
   ]
  },
  {
   "cell_type": "markdown",
   "metadata": {},
   "source": [
    "#### Frequent patterns"
   ]
  },
  {
   "cell_type": "markdown",
   "metadata": {},
   "source": [
    "A frequent pattern is a pattern (set of items, subsequences, substructures, etc.) that occur frequently in a data set. Frequent pattern mining was first proposed by Agrawal, Imielinski, and Swami [AIS93] in the context of frequent itemsets and association rule mining\n",
    "\n",
    "The motivation is to identify the inherent regularities, or frequent patterns in data.\n",
    "\n",
    "For example: \n",
    "What medical events frequently co-occur within a medical encounter? \n",
    "- Lower back pain, spinal stenosis, ibuprofin\n",
    "- Diabetes, metformin, foot exam\n",
    "- myocardial ischemia, beta-blockers, ACE inhibitors\n",
    "\n",
    "For the medical events above, what might be frequently occuring subsequent in future medical encounters?\n",
    "- Oxycontin, spinal fusion surgery\n",
    "- Low EF, myocardial ischemia\n",
    "- STEMI, angioplasty\n",
    "\n",
    "Each medical event, e.g., diabetes, metformin, ischemia, is considered an item. An itemset is a set of one or more items where the ordering does not matter. Items within an itemset are considered concurren:, e.g., STEMI and angioplasty.\n",
    "\n",
    "$k-itemset$ $X = {x_1, …, x_k}$\n",
    "\n",
    "Absolute support, or support count of $X$: Frequency or occurrence of an itemset $X$.\n",
    "\n",
    "Relative support, $s$, is the fraction of transactions that contains $X$, i.e., the probability that a transaction contains $X$.\n",
    "\n",
    "An itemset $X$ is *frequent* if *X*’s support is no less than a min suppport threshold.\n"
   ]
  },
  {
   "cell_type": "markdown",
   "metadata": {},
   "source": [
    "#### Association rules"
   ]
  },
  {
   "cell_type": "markdown",
   "metadata": {},
   "source": [
    "Rules can be defined from frequent itemsets.\n",
    "\n",
    "The problem is to find all rules $X=>Y$ with minimum support and confidence. \n",
    "- Support, $s$, is the probability that a transaction contains $X \\& Y$, i.e., $p(X,Y)$ \n",
    "- Confidence, $c$, is the conditional probability that a transaction (encounter) having $X$ also contains $Y$, i.e.,  $p(Y|X)$.\n",
    "\n",
    "Example: \n",
    "Let  minsup = $0.5$, minconf = $0.5$\n",
    "\n",
    "Frequent patterns: *myocardial ischemia:3, beta-blockers:2, ACE inhibitors:2, diabetes:2, metformin:2*. Foot exam:1 would not be a frequent pattern.\n",
    "\n",
    "Association rules: *myocardial ischemia, beat-blockers $=>$ ACE inhibitors* would have support=2/4 and confidence 2/2. There are many more.\n",
    "\n",
    "<table>\n",
    "<tr><td>Encounter ID</td><td>Medical events</td></tr>\n",
    "<tr><td>10</td><td>myocardial ischemia, beta-blockers, ACE inhibitors</td></tr>\n",
    "<tr><td>20</td><td>Diabetes, metformin, foot exam</td></tr>\n",
    "<tr><td>30</td><td>myocardial ischemia, diabetes, metformin, beta-blockers, ACE inhibitors</td></tr>\n",
    "<tr><td>40</td><td>Diabetes, myocardial ischemia, metformin</td></tr>\n",
    "</table> \n",
    "\n"
   ]
  },
  {
   "cell_type": "markdown",
   "metadata": {},
   "source": [
    "#### Subsequences"
   ]
  },
  {
   "cell_type": "markdown",
   "metadata": {},
   "source": [
    "A subsequence is a sequence that can be derived from another sequence by deleting some elements without changing the order of the remaining elements. \n",
    "\n",
    "For example, the sequence $\\{A,B,D\\}$ is a subsequence of $\\{A,B,C,D,E,F\\}$. \n",
    "\n",
    "Subsequences are suitable for mining patient event histories since they can model frequently occuring sequential patterns across patient event histories without the necessity to match each element within a sequence. \n",
    "\n",
    "For example, $\\{diabetes, low EF, STEMI\\}$ would be a common subsequence across the two following patient event sequences: \n",
    "- $\\{diabetes, metformin, lung cancer, low EF, STEMI\\}$  \n",
    "- $\\{diabetes, ischemia, low EF, STEMI\\}$ \n",
    "\n",
    "*Note: A subsequence should not be confused with substring which requires matching consecutive elements.*\n",
    "\n"
   ]
  },
  {
   "cell_type": "markdown",
   "metadata": {},
   "source": [
    "#### Mining subsequence patterns"
   ]
  },
  {
   "cell_type": "markdown",
   "metadata": {},
   "source": [
    "Frequent Pattern Mining - spark.mllib\n",
    "Mining frequent items, itemsets, subsequences, or other substructures is usually among the first steps to analyze a large-scale dataset, which has been an active research topic in data mining for years. We refer users to Wikipedia’s association rule learning for more information. spark.mllib provides a parallel implementation of FP-growth, a popular algorithm to mining frequent itemsets.\n",
    "\n",
    "FP-growth\n",
    "The FP-growth algorithm is described in the paper Han et al., Mining frequent patterns without candidate generation, where “FP” stands for frequent pattern. Given a dataset of transactions, the first step of FP-growth is to calculate item frequencies and identify frequent items. Different from Apriori-like algorithms designed for the same purpose, the second step of FP-growth uses a suffix tree (FP-tree) structure to encode transactions without generating candidate sets explicitly, which are usually expensive to generate. After the second step, the frequent itemsets can be extracted from the FP-tree. In spark.mllib, we implemented a parallel version of FP-growth called PFP, as described in Li et al., PFP: Parallel FP-growth for query recommendation. PFP distributes the work of growing FP-trees based on the suffices of transactions, and hence more scalable than a single-machine implementation. We refer users to the papers for more details.\n",
    "\n",
    "spark.mllib’s FP-growth implementation takes the following (hyper-)parameters:\n",
    "\n",
    "minSupport: the minimum support for an itemset to be identified as frequent. For example, if an item appears 3 out of 5 transactions, it has a support of 3/5=0.6.\n",
    "numPartitions: the number of partitions used to distribute the work.\n",
    "\n",
    "\n"
   ]
  },
  {
   "cell_type": "markdown",
   "metadata": {},
   "source": [
    "Given a set of sequences, find the complete set of *frequent* subsequences. Consider each sequence as an ordering over the patient's event history.\n",
    "\n",
    "Given the sequence: ${(ef) (ab)  (df) c b}$\n",
    "    \n",
    "Each element, i.e., $(ef), (ab), (df), c, b$; may contain a set of items. \n",
    "\n",
    "Items within an element are considered unordered (happen concurrently) and are listed alphabetically to avoid ambiguity. For example, events within a patient encounter could be considered items within an element set.\n",
    "\n",
    "Example: \n",
    "$\\{a(bc)dc\\}$ is a subsequence  of $\\{a(abc)(ac)d(cf)\\}$\n",
    "\n",
    "Example: \n",
    "Given minimum support threshold min_sup=2, $\\{(ab)c\\}$ is a sequential pattern\n",
    "the following sequence database:  \n",
    "<table>\n",
    "<tr><td>SID</td><td>sequence</td></tr>\n",
    "<tr><td>10</td><td>{a(abc)(ac)d(cf)}</td></tr>\n",
    "<tr><td>20</td><td>{(ad)c(bc)(ae)}</td></tr>\n",
    "<tr><td>30</td><td>{(ef)(ab)(df)cb}</td></tr>\n",
    "<tr><td>40</td><td>{eg(af)cbc}</td></tr>\n",
    "</table> "
   ]
  },
  {
   "cell_type": "markdown",
   "metadata": {
    "collapsed": true
   },
   "source": [
    "FPGrowth implements the FP-growth algorithm. It take an RDD of transactions, where each transaction is an List of items of a generic type. Calling FPGrowth.train with transactions returns an FPGrowthModel that stores the frequent itemsets with their frequencies.\n",
    "\n",
    "Refer to the FPGrowth Python docs for more details on the API."
   ]
  },
  {
   "cell_type": "markdown",
   "metadata": {},
   "source": [
    "In the Oracle datawarehouse query below, a basic aggregate query, the first step for generating a sequence database takes approximately 9 minutes (588 seconds).\n",
    "\n",
    "This query generates item sets, i.e., medical events per encounter.\n",
    "\n",
    "<img src='listaggquery.png'>"
   ]
  },
  {
   "cell_type": "code",
   "execution_count": 37,
   "metadata": {
    "collapsed": false
   },
   "outputs": [
    {
     "data": {
      "text/html": [
       "\n",
       "<style>\n",
       "table {float:left}\n",
       "</style>\n",
       "\n",
       "<script>\n",
       "code_show=true; \n",
       "function code_toggle() {\n",
       " if (code_show){\n",
       " $('div.input').hide();\n",
       " } else {\n",
       " $('div.input').show();\n",
       " }\n",
       " code_show = !code_show\n",
       "} \n",
       "$( document ).ready(code_toggle);\n",
       "</script>\n",
       "<form action=\"javascript:code_toggle()\"><input type=\"submit\" value=\"Click here to toggle on/off the raw code.\"></form>"
      ],
      "text/plain": [
       "<IPython.core.display.HTML object>"
      ]
     },
     "execution_count": 37,
     "metadata": {},
     "output_type": "execute_result"
    }
   ],
   "source": [
    "from IPython.display import HTML\n",
    "\n",
    "HTML('''\n",
    "<style>\n",
    "table {float:left}\n",
    "</style>\n",
    "\n",
    "<script>\n",
    "code_show=true; \n",
    "function code_toggle() {\n",
    " if (code_show){\n",
    " $('div.input').hide();\n",
    " } else {\n",
    " $('div.input').show();\n",
    " }\n",
    " code_show = !code_show\n",
    "} \n",
    "$( document ).ready(code_toggle);\n",
    "</script>\n",
    "<form action=\"javascript:code_toggle()\"><input type=\"submit\" value=\"Click here to toggle on/off the raw code.\"></form>''')\n",
    "\n"
   ]
  },
  {
   "cell_type": "code",
   "execution_count": 8,
   "metadata": {
    "collapsed": true
   },
   "outputs": [],
   "source": [
    "%matplotlib inline\n",
    "\n",
    "import matplotlib\n",
    "import numpy as np\n",
    "import matplotlib.pyplot as plt\n",
    "from pyspark.mllib.fpm import FPGrowth"
   ]
  },
  {
   "cell_type": "code",
   "execution_count": 13,
   "metadata": {
    "collapsed": false
   },
   "outputs": [
    {
     "data": {
      "image/png": "[encoded data removed]",
      "text/plain": [
       "<matplotlib.figure.Figure at 0x11690bad0>"
      ]
     },
     "metadata": {},
     "output_type": "display_data"
    }
   ],
   "source": [
    "x = np.random.normal(0., 10, 10000)\n",
    "plt.hist(x,50)\n",
    "plt.show()\n"
   ]
  },
  {
   "cell_type": "code",
   "execution_count": null,
   "metadata": {
    "collapsed": true
   },
   "outputs": [],
   "source": []
  },
  {
   "cell_type": "code",
   "execution_count": 14,
   "metadata": {
    "collapsed": true
   },
   "outputs": [],
   "source": [
    "from pyspark.sql import SQLContext, HiveContext\n",
    "from pyspark.sql.types import *\n",
    "from datetime import datetime\n",
    "import time\n",
    "from pyspark.sql.functions import *\n",
    "from pyspark.mllib.fpm import FPGrowth, PrefixSpan"
   ]
  },
  {
   "cell_type": "code",
   "execution_count": 24,
   "metadata": {
    "collapsed": false
   },
   "outputs": [
    {
     "name": "stdout",
     "output_type": "stream",
     "text": [
      "[u'r z h k p', u'z y x w v u t s', u's x o n r', u'x z y m t s q e', u'z', u'x z y r q t p']\n",
      "<class 'pyspark.rdd.RDD'>\n"
     ]
    }
   ],
   "source": [
    "sqlContext = HiveContext(sc)\n",
    "\n",
    "dataf = sc.textFile(\"/Users/jayurbain/Dropbox/machine-learning/machine-learning/data/sample_fpgrowth.txt\")\n",
    "print dataf.take(10)\n",
    "print type(dataf)"
   ]
  },
  {
   "cell_type": "code",
   "execution_count": 25,
   "metadata": {
    "collapsed": false
   },
   "outputs": [
    {
     "name": "stdout",
     "output_type": "stream",
     "text": [
      "[[u'r', u'z', u'h', u'k', u'p'], [u'z', u'y', u'x', u'w', u'v', u'u', u't', u's'], [u's', u'x', u'o', u'n', u'r'], [u'x', u'z', u'y', u'm', u't', u's', u'q', u'e'], [u'z']]\n",
      "FreqItemset(items=[u'z'], freq=5)\n",
      "FreqItemset(items=[u'x'], freq=4)\n",
      "FreqItemset(items=[u'x', u'z'], freq=3)\n",
      "FreqItemset(items=[u'y'], freq=3)\n",
      "FreqItemset(items=[u'y', u'x'], freq=3)\n",
      "FreqItemset(items=[u'y', u'x', u'z'], freq=3)\n",
      "FreqItemset(items=[u'y', u'z'], freq=3)\n",
      "FreqItemset(items=[u'r'], freq=3)\n",
      "FreqItemset(items=[u'r', u'x'], freq=2)\n",
      "FreqItemset(items=[u'r', u'z'], freq=2)\n",
      "FreqItemset(items=[u's'], freq=3)\n",
      "FreqItemset(items=[u's', u'y'], freq=2)\n",
      "FreqItemset(items=[u's', u'y', u'x'], freq=2)\n",
      "FreqItemset(items=[u's', u'y', u'x', u'z'], freq=2)\n",
      "FreqItemset(items=[u's', u'y', u'z'], freq=2)\n",
      "FreqItemset(items=[u's', u'x'], freq=3)\n",
      "FreqItemset(items=[u's', u'x', u'z'], freq=2)\n",
      "FreqItemset(items=[u's', u'z'], freq=2)\n",
      "FreqItemset(items=[u't'], freq=3)\n",
      "FreqItemset(items=[u't', u'y'], freq=3)\n",
      "FreqItemset(items=[u't', u'y', u'x'], freq=3)\n",
      "FreqItemset(items=[u't', u'y', u'x', u'z'], freq=3)\n",
      "FreqItemset(items=[u't', u'y', u'z'], freq=3)\n",
      "FreqItemset(items=[u't', u's'], freq=2)\n",
      "FreqItemset(items=[u't', u's', u'y'], freq=2)\n",
      "FreqItemset(items=[u't', u's', u'y', u'x'], freq=2)\n",
      "FreqItemset(items=[u't', u's', u'y', u'x', u'z'], freq=2)\n",
      "FreqItemset(items=[u't', u's', u'y', u'z'], freq=2)\n",
      "FreqItemset(items=[u't', u's', u'x'], freq=2)\n",
      "FreqItemset(items=[u't', u's', u'x', u'z'], freq=2)\n",
      "FreqItemset(items=[u't', u's', u'z'], freq=2)\n",
      "FreqItemset(items=[u't', u'x'], freq=3)\n",
      "FreqItemset(items=[u't', u'x', u'z'], freq=3)\n",
      "FreqItemset(items=[u't', u'z'], freq=3)\n",
      "FreqItemset(items=[u'p'], freq=2)\n",
      "FreqItemset(items=[u'p', u'r'], freq=2)\n",
      "FreqItemset(items=[u'p', u'r', u'z'], freq=2)\n",
      "FreqItemset(items=[u'p', u'z'], freq=2)\n",
      "FreqItemset(items=[u'q'], freq=2)\n",
      "FreqItemset(items=[u'q', u'y'], freq=2)\n",
      "FreqItemset(items=[u'q', u'y', u'x'], freq=2)\n",
      "FreqItemset(items=[u'q', u'y', u'x', u'z'], freq=2)\n",
      "FreqItemset(items=[u'q', u'y', u'z'], freq=2)\n",
      "FreqItemset(items=[u'q', u't'], freq=2)\n",
      "FreqItemset(items=[u'q', u't', u'y'], freq=2)\n",
      "FreqItemset(items=[u'q', u't', u'y', u'x'], freq=2)\n",
      "FreqItemset(items=[u'q', u't', u'y', u'x', u'z'], freq=2)\n",
      "FreqItemset(items=[u'q', u't', u'y', u'z'], freq=2)\n",
      "FreqItemset(items=[u'q', u't', u'x'], freq=2)\n",
      "FreqItemset(items=[u'q', u't', u'x', u'z'], freq=2)\n",
      "FreqItemset(items=[u'q', u't', u'z'], freq=2)\n",
      "FreqItemset(items=[u'q', u'x'], freq=2)\n",
      "FreqItemset(items=[u'q', u'x', u'z'], freq=2)\n",
      "FreqItemset(items=[u'q', u'z'], freq=2)\n",
      "( z ) freq= 5\n",
      "( x ) freq= 4\n",
      "( x, z ) freq= 3\n",
      "( y ) freq= 3\n",
      "( y, x ) freq= 3\n",
      "( y, x, z ) freq= 3\n",
      "( y, z ) freq= 3\n",
      "( r ) freq= 3\n",
      "( r, x ) freq= 2\n",
      "( r, z ) freq= 2\n",
      "( s ) freq= 3\n",
      "( s, y ) freq= 2\n",
      "( s, y, x ) freq= 2\n",
      "( s, y, x, z ) freq= 2\n",
      "( s, y, z ) freq= 2\n",
      "( s, x ) freq= 3\n",
      "( s, x, z ) freq= 2\n",
      "( s, z ) freq= 2\n",
      "( t ) freq= 3\n",
      "( t, y ) freq= 3\n",
      "( t, y, x ) freq= 3\n",
      "( t, y, x, z ) freq= 3\n",
      "( t, y, z ) freq= 3\n",
      "( t, s ) freq= 2\n",
      "( t, s, y ) freq= 2\n",
      "( t, s, y, x ) freq= 2\n",
      "( t, s, y, x, z ) freq= 2\n",
      "( t, s, y, z ) freq= 2\n",
      "( t, s, x ) freq= 2\n",
      "( t, s, x, z ) freq= 2\n",
      "( t, s, z ) freq= 2\n",
      "( t, x ) freq= 3\n",
      "( t, x, z ) freq= 3\n",
      "( t, z ) freq= 3\n",
      "( p ) freq= 2\n",
      "( p, r ) freq= 2\n",
      "( p, r, z ) freq= 2\n",
      "( p, z ) freq= 2\n",
      "( q ) freq= 2\n",
      "( q, y ) freq= 2\n",
      "( q, y, x ) freq= 2\n",
      "( q, y, x, z ) freq= 2\n",
      "( q, y, z ) freq= 2\n",
      "( q, t ) freq= 2\n",
      "( q, t, y ) freq= 2\n",
      "( q, t, y, x ) freq= 2\n",
      "( q, t, y, x, z ) freq= 2\n",
      "( q, t, y, z ) freq= 2\n",
      "( q, t, x ) freq= 2\n",
      "( q, t, x, z ) freq= 2\n",
      "( q, t, z ) freq= 2\n",
      "( q, x ) freq= 2\n",
      "( q, x, z ) freq= 2\n",
      "( q, z ) freq= 2\n"
     ]
    }
   ],
   "source": [
    "# fpgrowth\n",
    "transactions = dataf.map(lambda line: line.strip().split(' '))\n",
    "print transactions.take(5)\n",
    "model = FPGrowth.train(transactions, minSupport=0.2, numPartitions=10)\n",
    "result = model.freqItemsets().collect()\n",
    "# for fi in result:\n",
    "#     print(fi)\n",
    "\n",
    "for i in result:\n",
    "    print '(', ', '.join(i.items), ')', 'freq=', str(i.freq)"
   ]
  },
  {
   "cell_type": "code",
   "execution_count": 30,
   "metadata": {
    "collapsed": false
   },
   "outputs": [
    {
     "name": "stdout",
     "output_type": "stream",
     "text": [
      "( z ) freq= 5\n",
      "( x ) freq= 4\n",
      "( x, z ) freq= 3\n",
      "( y ) freq= 3\n",
      "( y, x ) freq= 3\n",
      "( y, x, z ) freq= 3\n",
      "( y, z ) freq= 3\n",
      "( r ) freq= 3\n",
      "( r, x ) freq= 2\n",
      "( r, z ) freq= 2\n",
      "( s ) freq= 3\n",
      "( s, y ) freq= 2\n",
      "( s, y, x ) freq= 2\n",
      "( s, y, x, z ) freq= 2\n",
      "( s, y, z ) freq= 2\n",
      "( s, x ) freq= 3\n",
      "( s, x, z ) freq= 2\n",
      "( s, z ) freq= 2\n",
      "( t ) freq= 3\n",
      "( t, y ) freq= 3\n",
      "( t, y, x ) freq= 3\n",
      "( t, y, x, z ) freq= 3\n",
      "( t, y, z ) freq= 3\n",
      "( t, s ) freq= 2\n",
      "( t, s, y ) freq= 2\n",
      "( t, s, y, x ) freq= 2\n",
      "( t, s, y, x, z ) freq= 2\n",
      "( t, s, y, z ) freq= 2\n",
      "( t, s, x ) freq= 2\n",
      "( t, s, x, z ) freq= 2\n",
      "( t, s, z ) freq= 2\n",
      "( t, x ) freq= 3\n",
      "( t, x, z ) freq= 3\n",
      "( t, z ) freq= 3\n",
      "( p ) freq= 2\n",
      "( p, r ) freq= 2\n",
      "( p, r, z ) freq= 2\n",
      "( p, z ) freq= 2\n",
      "( q ) freq= 2\n",
      "( q, y ) freq= 2\n",
      "( q, y, x ) freq= 2\n",
      "( q, y, x, z ) freq= 2\n",
      "( q, y, z ) freq= 2\n",
      "( q, t ) freq= 2\n",
      "( q, t, y ) freq= 2\n",
      "( q, t, y, x ) freq= 2\n",
      "( q, t, y, x, z ) freq= 2\n",
      "( q, t, y, z ) freq= 2\n",
      "( q, t, x ) freq= 2\n",
      "( q, t, x, z ) freq= 2\n",
      "( q, t, z ) freq= 2\n",
      "( q, x ) freq= 2\n",
      "( q, x, z ) freq= 2\n",
      "( q, z ) freq= 2\n"
     ]
    },
    {
     "data": {
      "text/plain": [
       "[FreqItemset(items=[u'p'], freq=2),\n",
       " FreqItemset(items=[u'p', u'r'], freq=2),\n",
       " FreqItemset(items=[u'p', u'r', u'z'], freq=2),\n",
       " FreqItemset(items=[u'p', u'z'], freq=2),\n",
       " FreqItemset(items=[u'q'], freq=2),\n",
       " FreqItemset(items=[u'q', u't'], freq=2),\n",
       " FreqItemset(items=[u'q', u't', u'x'], freq=2),\n",
       " FreqItemset(items=[u'q', u't', u'x', u'z'], freq=2),\n",
       " FreqItemset(items=[u'q', u't', u'y'], freq=2),\n",
       " FreqItemset(items=[u'q', u't', u'y', u'x'], freq=2),\n",
       " FreqItemset(items=[u'q', u't', u'y', u'x', u'z'], freq=2),\n",
       " FreqItemset(items=[u'q', u't', u'y', u'z'], freq=2),\n",
       " FreqItemset(items=[u'q', u't', u'z'], freq=2),\n",
       " FreqItemset(items=[u'q', u'x'], freq=2),\n",
       " FreqItemset(items=[u'q', u'x', u'z'], freq=2),\n",
       " FreqItemset(items=[u'q', u'y'], freq=2),\n",
       " FreqItemset(items=[u'q', u'y', u'x'], freq=2),\n",
       " FreqItemset(items=[u'q', u'y', u'x', u'z'], freq=2),\n",
       " FreqItemset(items=[u'q', u'y', u'z'], freq=2),\n",
       " FreqItemset(items=[u'q', u'z'], freq=2),\n",
       " FreqItemset(items=[u'r'], freq=3),\n",
       " FreqItemset(items=[u'r', u'x'], freq=2),\n",
       " FreqItemset(items=[u'r', u'z'], freq=2),\n",
       " FreqItemset(items=[u's'], freq=3),\n",
       " FreqItemset(items=[u's', u'x'], freq=3),\n",
       " FreqItemset(items=[u's', u'x', u'z'], freq=2),\n",
       " FreqItemset(items=[u's', u'y'], freq=2),\n",
       " FreqItemset(items=[u's', u'y', u'x'], freq=2),\n",
       " FreqItemset(items=[u's', u'y', u'x', u'z'], freq=2),\n",
       " FreqItemset(items=[u's', u'y', u'z'], freq=2),\n",
       " FreqItemset(items=[u's', u'z'], freq=2),\n",
       " FreqItemset(items=[u't'], freq=3),\n",
       " FreqItemset(items=[u't', u's'], freq=2),\n",
       " FreqItemset(items=[u't', u's', u'x'], freq=2),\n",
       " FreqItemset(items=[u't', u's', u'x', u'z'], freq=2),\n",
       " FreqItemset(items=[u't', u's', u'y'], freq=2),\n",
       " FreqItemset(items=[u't', u's', u'y', u'x'], freq=2),\n",
       " FreqItemset(items=[u't', u's', u'y', u'x', u'z'], freq=2),\n",
       " FreqItemset(items=[u't', u's', u'y', u'z'], freq=2),\n",
       " FreqItemset(items=[u't', u's', u'z'], freq=2),\n",
       " FreqItemset(items=[u't', u'x'], freq=3),\n",
       " FreqItemset(items=[u't', u'x', u'z'], freq=3),\n",
       " FreqItemset(items=[u't', u'y'], freq=3),\n",
       " FreqItemset(items=[u't', u'y', u'x'], freq=3),\n",
       " FreqItemset(items=[u't', u'y', u'x', u'z'], freq=3),\n",
       " FreqItemset(items=[u't', u'y', u'z'], freq=3),\n",
       " FreqItemset(items=[u't', u'z'], freq=3),\n",
       " FreqItemset(items=[u'x'], freq=4),\n",
       " FreqItemset(items=[u'x', u'z'], freq=3),\n",
       " FreqItemset(items=[u'y'], freq=3),\n",
       " FreqItemset(items=[u'y', u'x'], freq=3),\n",
       " FreqItemset(items=[u'y', u'x', u'z'], freq=3),\n",
       " FreqItemset(items=[u'y', u'z'], freq=3),\n",
       " FreqItemset(items=[u'z'], freq=5)]"
      ]
     },
     "execution_count": 30,
     "metadata": {},
     "output_type": "execute_result"
    }
   ],
   "source": [
    "data = [\n",
    "[[\"a\", \"b\"], [\"c\"]],\n",
    "[[\"a\"], [\"c\", \"b\"], [\"a\", \"b\"]],\n",
    "[[\"a\", \"b\"], [\"e\"]],\n",
    "[[\"f\"]]]\n",
    "rdd = sc.parallelize(data, 2)\n",
    "model = FPGrowth.train(transactions, minSupport=0.2, numPartitions=10)\n",
    "result = model.freqItemsets().collect()\n",
    "for i in result:\n",
    "    print '(', ', '.join(i.items), ')', 'freq=', str(i.freq)\n",
    "    \n",
    "sorted(model.freqItemsets().collect())"
   ]
  },
  {
   "cell_type": "code",
   "execution_count": 27,
   "metadata": {
    "collapsed": false
   },
   "outputs": [
    {
     "name": "stdout",
     "output_type": "stream",
     "text": [
      "[[['a', 'b'], ['c']], [['a'], ['c', 'b'], ['a', 'b']], [['a', 'b'], ['e']], [['f']]]\n"
     ]
    },
    {
     "data": {
      "text/plain": [
       "[FreqSequence(sequence=[[u'a']], freq=3),\n",
       " FreqSequence(sequence=[[u'a'], [u'a']], freq=1),\n",
       " FreqSequence(sequence=[[u'a'], [u'b']], freq=1),\n",
       " FreqSequence(sequence=[[u'a'], [u'b'], [u'a']], freq=1),\n",
       " FreqSequence(sequence=[[u'a'], [u'b'], [u'b']], freq=1),\n",
       " FreqSequence(sequence=[[u'a'], [u'b'], [u'b', u'a']], freq=1),\n",
       " FreqSequence(sequence=[[u'a'], [u'b', u'a']], freq=1),\n",
       " FreqSequence(sequence=[[u'a'], [u'b', u'c']], freq=1),\n",
       " FreqSequence(sequence=[[u'a'], [u'b', u'c'], [u'a']], freq=1),\n",
       " FreqSequence(sequence=[[u'a'], [u'b', u'c'], [u'b']], freq=1),\n",
       " FreqSequence(sequence=[[u'a'], [u'b', u'c'], [u'b', u'a']], freq=1),\n",
       " FreqSequence(sequence=[[u'a'], [u'c']], freq=2),\n",
       " FreqSequence(sequence=[[u'a'], [u'c'], [u'a']], freq=1),\n",
       " FreqSequence(sequence=[[u'a'], [u'c'], [u'b']], freq=1),\n",
       " FreqSequence(sequence=[[u'a'], [u'c'], [u'b', u'a']], freq=1),\n",
       " FreqSequence(sequence=[[u'a'], [u'e']], freq=1),\n",
       " FreqSequence(sequence=[[u'b']], freq=3),\n",
       " FreqSequence(sequence=[[u'b'], [u'a']], freq=1),\n",
       " FreqSequence(sequence=[[u'b'], [u'b']], freq=1),\n",
       " FreqSequence(sequence=[[u'b'], [u'b', u'a']], freq=1),\n",
       " FreqSequence(sequence=[[u'b'], [u'c']], freq=1),\n",
       " FreqSequence(sequence=[[u'b'], [u'e']], freq=1),\n",
       " FreqSequence(sequence=[[u'b', u'a']], freq=3),\n",
       " FreqSequence(sequence=[[u'b', u'a'], [u'c']], freq=1),\n",
       " FreqSequence(sequence=[[u'b', u'a'], [u'e']], freq=1),\n",
       " FreqSequence(sequence=[[u'b', u'c']], freq=1),\n",
       " FreqSequence(sequence=[[u'b', u'c'], [u'a']], freq=1),\n",
       " FreqSequence(sequence=[[u'b', u'c'], [u'b']], freq=1),\n",
       " FreqSequence(sequence=[[u'b', u'c'], [u'b', u'a']], freq=1),\n",
       " FreqSequence(sequence=[[u'c']], freq=2),\n",
       " FreqSequence(sequence=[[u'c'], [u'a']], freq=1),\n",
       " FreqSequence(sequence=[[u'c'], [u'b']], freq=1),\n",
       " FreqSequence(sequence=[[u'c'], [u'b', u'a']], freq=1),\n",
       " FreqSequence(sequence=[[u'e']], freq=1),\n",
       " FreqSequence(sequence=[[u'f']], freq=1)]"
      ]
     },
     "execution_count": 27,
     "metadata": {},
     "output_type": "execute_result"
    }
   ],
   "source": [
    "data = [\n",
    "[[\"a\", \"b\"], [\"c\"]],\n",
    "[[\"a\"], [\"c\", \"b\"], [\"a\", \"b\"]],\n",
    "[[\"a\", \"b\"], [\"e\"]],\n",
    "[[\"f\"]]]\n",
    "rdd = sc.parallelize(data, 2)\n",
    "#rdd = sc.parallelize(transactions, 2)\n",
    "print rdd.take(5)\n",
    "model = PrefixSpan.train(rdd)\n",
    "sorted(model.freqSequences().collect())"
   ]
  },
  {
   "cell_type": "code",
   "execution_count": null,
   "metadata": {
    "collapsed": true
   },
   "outputs": [],
   "source": []
  }
 ],
 "metadata": {
  "kernelspec": {
   "display_name": "Python 3",
   "language": "python",
   "name": "python3"
  },
  "language_info": {
   "codemirror_mode": {
    "name": "ipython",
    "version": 3
   },
   "file_extension": ".py",
   "mimetype": "text/x-python",
   "name": "python",
   "nbconvert_exporter": "python",
   "pygments_lexer": "ipython3",
   "version": "3.5.1"
  }
 },
 "nbformat": 4,
 "nbformat_minor": 0
}
