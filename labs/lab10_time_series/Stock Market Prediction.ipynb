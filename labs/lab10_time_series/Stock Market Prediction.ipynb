{
 "cells": [
  {
   "cell_type": "markdown",
   "metadata": {},
   "source": [
    "#### Stock Market Prediction\n",
    "\n",
    "Build a model to predict financial market’s movements. The forecasting algorithm aims to foresee whether tomorrow’s  exchange closing price is going to be lower or higher with respect to today. \n",
    "\n",
    "Next steps will include developing a trading strategy on top of that, based on our predictions, and backtest it against a benchmark."
   ]
  },
  {
   "cell_type": "code",
   "execution_count": 6,
   "metadata": {},
   "outputs": [],
   "source": [
    "import cPickle\n",
    "import numpy as np\n",
    "import pandas as pd\n",
    "import datetime\n",
    "from sklearn import preprocessing\n",
    "from datetime import datetime\n",
    "from sklearn.ensemble import RandomForestClassifier\n",
    "from sklearn import neighbors\n",
    "from sklearn.ensemble import AdaBoostClassifier\n",
    "from sklearn.ensemble import GradientBoostingClassifier\n",
    "from sklearn.svm import SVC\n",
    "import operator\n",
    "import pandas.io.data\n",
    "#from pandas_datareader import data, wb\n",
    "from sklearn.qda import QDA\n",
    "import re\n",
    "from dateutil import parser\n",
    "#from backtest import Strategy, Portfolio"
   ]
  },
  {
   "cell_type": "markdown",
   "metadata": {},
   "source": [
    "The aim of the project is to predict whether future daily returns of a S&P 500 are going to be positive or negative.\n",
    "\n",
    "The problem is a binary classification problem.\n",
    "\n",
    "The metric used will be the daily return:\n",
    "\n",
    "$Return_i=\\dfrac{AdjClose_i–AdjClose_{i−1}}{AdjClose_{i−1}}$\n",
    "\n",
    "The Return on the $i^{th}$ day is equal to the *Adjusted Stock Close Price* on the $i^{th}$ day minus the Adjusted Stock Close Price on the (i-1)-th day divided by the Adjusted Stock Close Price on the (i-1)-th day. Adjusted Close Price of a stock is its close price modified by taking into account dividends. It is common practice to use this metrics in Returns computations.\n",
    "\n",
    "Since the beginnning I decided to focus only on S&P 500, a stock market index based on the market capitalizations of 500 large companies having common stock listed on the NYSE (New York Stock Exchange) or NASDAQ. Being such a diversified portfolio, the S&P 500 index is typically used as a market benchmark, for example to compute betas of companies listed on the exchange."
   ]
  },
  {
   "cell_type": "code",
   "execution_count": null,
   "metadata": {
    "collapsed": true
   },
   "outputs": [],
   "source": []
  },
  {
   "cell_type": "markdown",
   "metadata": {},
   "source": [
    "Since the beginnning I decided to focus only on S&P 500, a stock market index based on the market capitalizations of 500 large companies having common stock listed on the NYSE (New York Stock Exchange) or NASDAQ. Being such a diversified portfolio, the S&P 500 index is typically used as a market benchmark, for example to compute betas of companies listed on the exchange.\n",
    "\n",
    "Feature Analysis\n",
    "\n",
    "The main idea is to use world major stock indices as input features for the machine learning based predictor. The intuition behind this approach is that globalization has deepened the interaction between financial markets around the world. Shock wave of US financial crisis (from Lehman Brothers crack) hit the economy of almost every country and debt crisis originated in Greece brought down all major stock indices. Nowadays, no financial market is isolated. Economic data, political perturbation and any other oversea affairs could cause dramatic fluctuation in domestic markets. A “bad day” on the Australian or Japanese exchange is going to heavily affect Wall Street opening and trend. In the light of the previous considerations the following predictors have been selected:\n",
    "\n",
    "NASDAQ Composite (^IXIC Yahoo Finance)\n",
    "Dow Jones Industrial Average (^DJI Quandl)\n",
    "Frankfurt DAX (^GDAXI Yahoo Finance)\n",
    "London FTSE-100 (^FTSE Yahoo Finance)\n",
    "Paris CAC 40 (^FCHI Yahoo Finance)\n",
    "Tokyo Nikkei-225 (^N225 Yahoo Finance)\n",
    "Hong Kong Hang Seng (^HSI Yahoo Finance)\n",
    "Australia ASX-200 (^AXJO Yahoo Finance)\n",
    "It is very easy to get historical daily prices of the previous indices. Python provides easy libraries to handle the download. The data can be pulled down from Yahoo Finance or Quandl and cleanly formatted into a dataframe with the following columns:\n",
    "\n",
    "Date : in days\n",
    "Open : price of the stock at the opening of the trading (in US dollars)\n",
    "High : highest price of the stock during the trading day (in US dollars)\n",
    "Low : lowest price of the stock during the trading day (in US dollars)\n",
    "Close : price of the stock at the closing of the trading (in US dollars)\n",
    "Volume : amount of stocks traded (in US dollars)\n",
    "Adj Close : price of the stock at the closing of the trading adjusted with dividends (in US dollars)\n",
    "The following is a screenshot of Yahoo Finance website showing a subset of NASDAQ Composite historical prices. This is exactly how a Pandas DataFrame looks like after having downloaded the data."
   ]
  },
  {
   "cell_type": "code",
   "execution_count": 7,
   "metadata": {
    "collapsed": true
   },
   "outputs": [],
   "source": [
    "def getStock(symbol, start, end):\n",
    "    \"\"\"\n",
    "    Downloads Stock from Yahoo Finance.\n",
    "    Computes daily Returns based on Adj Close.\n",
    "    Returns pandas dataframe.\n",
    "    \"\"\"\n",
    "    df =  pd.io.data.get_data_yahoo(symbol, start, end)\n",
    " \n",
    "    df.columns.values[-1] = 'AdjClose'\n",
    "    df.columns = df.columns + '_' + symbol\n",
    "    df['Return_%s' %symbol] = df['AdjClose_%s' %symbol].pct_change()\n",
    "    \n",
    "    return df"
   ]
  },
  {
   "cell_type": "code",
   "execution_count": 10,
   "metadata": {
    "collapsed": true
   },
   "outputs": [],
   "source": [
    "def getStockFromQuandl(symbol, name, start, end):\n",
    "    \"\"\"\n",
    "    Downloads Stock from Quandl.\n",
    "    Computes daily Returns based on Adj Close.\n",
    "    Returns pandas dataframe.\n",
    "    \"\"\"\n",
    "    import Quandl\n",
    "    df =  Quandl.get(symbol, trim_start = start, trim_end = end, authtoken=\"your token\")\n",
    " \n",
    "    df.columns.values[-1] = 'AdjClose'\n",
    "    df.columns = df.columns + '_' + name\n",
    "    df['Return_%s' %name] = df['AdjClose_%s' %name].pct_change()\n",
    "    \n",
    "    return df"
   ]
  },
  {
   "cell_type": "code",
   "execution_count": 9,
   "metadata": {
    "collapsed": true
   },
   "outputs": [],
   "source": [
    "def getStockDataFromWeb(fout, start_string, end_string):\n",
    "    \"\"\"\n",
    "    Collects predictors data from Yahoo Finance and Quandl.\n",
    "    Returns a list of dataframes.\n",
    "    \"\"\"\n",
    "    start = parser.parse(start_string)\n",
    "    end = parser.parse(end_string)\n",
    "    \n",
    "    nasdaq = getStock('^IXIC', start, end)\n",
    "    frankfurt = getStock('^GDAXI', start, end)\n",
    "    london = getStock('^FTSE', start, end)\n",
    "    paris = getStock('^FCHI', start, end)\n",
    "    hkong = getStock('^HSI', start, end)\n",
    "    nikkei = getStock('^N225', start, end)\n",
    "    australia = getStock('^AXJO', start, end)\n",
    "    \n",
    "    djia = getStockFromQuandl(\"YAHOO/INDEX_DJI\", 'Djia', start_string, end_string) \n",
    "    \n",
    "    out =  pd.io.data.get_data_yahoo(fout, start, end)\n",
    "    out.columns.values[-1] = 'AdjClose'\n",
    "    out.columns = out.columns + '_Out'\n",
    "    out['Return_Out'] = out['AdjClose_Out'].pct_change()\n",
    "    \n",
    "    return [out, nasdaq, djia, frankfurt, london, paris, hkong, nikkei, australia]\n"
   ]
  },
  {
   "cell_type": "code",
   "execution_count": 12,
   "metadata": {},
   "outputs": [
    {
     "data": {
      "text/plain": [
       "Date\n",
       "2004-08-19     50.119968\n",
       "2004-08-20     54.100990\n",
       "2004-08-23     54.645447\n",
       "2004-08-24     52.382705\n",
       "2004-08-25     52.947145\n",
       "2004-08-26     53.901190\n",
       "2004-08-27     53.022069\n",
       "2004-08-30     50.954132\n",
       "2004-08-31     51.133953\n",
       "2004-09-01     50.075011\n",
       "2004-09-02     50.704382\n",
       "2004-09-03     49.955130\n",
       "2004-09-07     50.739348\n",
       "2004-09-08     51.098988\n",
       "2004-09-09     51.103983\n",
       "2004-09-10     52.612476\n",
       "2004-09-13     53.696398\n",
       "2004-09-14     55.689407\n",
       "2004-09-15     55.944152\n",
       "2004-09-16     56.928171\n",
       "2004-09-17     58.686414\n",
       "2004-09-20     59.620484\n",
       "2004-09-21     58.861240\n",
       "2004-09-22     59.130972\n",
       "2004-09-23     60.349754\n",
       "2004-09-24     59.855246\n",
       "2004-09-27     59.071031\n",
       "2004-09-28     63.366744\n",
       "2004-09-29     65.474638\n",
       "2004-09-30     64.735377\n",
       "                 ...    \n",
       "2011-11-17    300.135389\n",
       "2011-11-18    297.143366\n",
       "2011-11-21    290.180320\n",
       "2011-11-22    289.710772\n",
       "2011-11-23    284.770724\n",
       "2011-11-25    281.219276\n",
       "2011-11-28    293.801692\n",
       "2011-11-29    291.174315\n",
       "2011-11-30    299.396120\n",
       "2011-12-01    306.578946\n",
       "2011-12-02    309.870648\n",
       "2011-12-05    312.513020\n",
       "2011-12-06    311.573954\n",
       "2011-12-07    311.384164\n",
       "2011-12-08    307.717808\n",
       "2011-12-09    313.397156\n",
       "2011-12-12    312.383147\n",
       "2011-12-13    312.503043\n",
       "2011-12-14    308.726798\n",
       "2011-12-15    309.461079\n",
       "2011-12-16    312.667863\n",
       "2011-12-19    310.604929\n",
       "2011-12-20    314.870675\n",
       "2011-12-21    312.597938\n",
       "2011-12-22    314.536018\n",
       "2011-12-23    316.254288\n",
       "2011-12-27    319.805735\n",
       "2011-12-28    319.531026\n",
       "2011-12-29    320.879661\n",
       "2011-12-30    322.627920\n",
       "Name: Adj Close, dtype: float64"
      ]
     },
     "execution_count": 12,
     "metadata": {},
     "output_type": "execute_result"
    }
   ],
   "source": [
    "# Yes a lot of them, zipline, pandas and even matplotlib can download data from Yahoo Finance. I recommend you use pandas:\n",
    "\n",
    "from pandas.io.data import DataReader\n",
    "from datetime import datetime\n",
    "\n",
    "goog = DataReader(\"GOOG\",  \"yahoo\", datetime(2000,1,1), datetime(2012,1,1))\n",
    "goog[\"Adj Close\"]"
   ]
  },
  {
   "cell_type": "code",
   "execution_count": null,
   "metadata": {
    "collapsed": true
   },
   "outputs": [],
   "source": []
  }
 ],
 "metadata": {
  "kernelspec": {
   "display_name": "Python [conda env:py3.6tf1.3keras]",
   "language": "python",
   "name": "conda-env-py3.6tf1.3keras-py"
  },
  "language_info": {
   "codemirror_mode": {
    "name": "ipython",
    "version": 3
   },
   "file_extension": ".py",
   "mimetype": "text/x-python",
   "name": "python",
   "nbconvert_exporter": "python",
   "pygments_lexer": "ipython3",
   "version": "3.6.4"
  }
 },
 "nbformat": 4,
 "nbformat_minor": 1
}
