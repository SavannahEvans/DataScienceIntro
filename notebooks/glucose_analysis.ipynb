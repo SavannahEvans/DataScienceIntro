{
 "cells": [
  {
   "cell_type": "markdown",
   "metadata": {},
   "source": [
    "## Blood Glucose"
   ]
  },
  {
   "cell_type": "markdown",
   "metadata": {},
   "source": [
    "By RJ Nowling, 2018-09-06\n",
    "\n",
    "A [CDC Report](https://www.cdc.gov/media/releases/2017/p0718-diabetes-report.html) \"finds that as of 2015, 30.3 million Americans – 9.4 percent of the U.S. population –have diabetes. Another 84.1 million have prediabetes, a condition that if not treated often leads to type 2 diabetes within five years.\"\n",
    "\n",
    "When we eat food, carbohydrates in the food are converted into glucose, a type of sugar, that floats in our blood.  In a healthy person, the pancreas and liver regulate the concentration of glucose by releasing insulin and stored glucose, respectively.  Insulin triggers the body's cells to absorb the glucose floating in the blood stream.  Type 2 diabetes is characterized by elevated blood sugar (glucose) levels due to reduced sensitivity to insulin (insulin resistance).  Insulin resistance can be made worse when a person is overweight.  Blood sugar is often measured by a device called a glucometer using a blood sample.\n",
    "\n",
    "Diet and exercise are used as a first line defense for managing type 2 diabetes or prediabetes.  Diet and exercise impact glucose levels directly and indirectly.  High carbohydrates foods like candy, potatoes, or bread can spike blood sugar levels; foods with complex carbohydrates such as whole wheat bread or sweed potatoes tend to be digested more slowly, leading to smoother blood sugar levels. Exercise can reduce blood sugar levels temporarily by causing cells to absorb glucose in the blood without needing insulin.  Longer term, proper diet and consistent exercise can help type 2 diabetics lose weight and consequently, reduce insulin resistance.\n",
    "\n",
    "In this notebook, we'll analyze glucose readings from a type 2 diabetic taken over the summer of 2016.  The data set contains a timestamp (date and time), glucose level, and whether or not the person engaged in a physical activity before the reading was taken.  We'll analyze this data set to determine the seasonality in the blood glucose levels and the impact of exercise on blood glucose levels."
   ]
  },
  {
   "cell_type": "code",
   "execution_count": null,
   "metadata": {},
   "outputs": [],
   "source": [
    "import numpy as np\n",
    "import scipy.stats as stats\n",
    "import matplotlib.pyplot as plt\n",
    "import pandas as pd\n",
    "import datetime as dt"
   ]
  },
  {
   "cell_type": "markdown",
   "metadata": {},
   "source": [
    "## Loading and Cleaning the Data using Pandas"
   ]
  },
  {
   "cell_type": "markdown",
   "metadata": {},
   "source": [
    "Read the data from a CSV File"
   ]
  },
  {
   "cell_type": "code",
   "execution_count": null,
   "metadata": {},
   "outputs": [],
   "source": [
    "glucose_readings = pd.read_csv(\"../data/glucose.csv\")"
   ]
  },
  {
   "cell_type": "markdown",
   "metadata": {},
   "source": [
    "Preview the data by looking at the first few rows"
   ]
  },
  {
   "cell_type": "code",
   "execution_count": null,
   "metadata": {},
   "outputs": [],
   "source": [
    "glucose_readings.head()"
   ]
  },
  {
   "cell_type": "markdown",
   "metadata": {},
   "source": [
    "The file appears to contain 3 columns: timestamp, glucose level, and prior activity.\n",
    "How many rows are there?"
   ]
  },
  {
   "cell_type": "code",
   "execution_count": null,
   "metadata": {},
   "outputs": [],
   "source": [
    "len(glucose_readings)"
   ]
  },
  {
   "cell_type": "markdown",
   "metadata": {},
   "source": [
    "Pandas can often correctly infer the type (e.g., int, float, str) of a column.\n",
    "Let's see what types Pandas inferred for this data set."
   ]
  },
  {
   "cell_type": "code",
   "execution_count": null,
   "metadata": {},
   "outputs": [],
   "source": [
    "glucose_readings.dtypes"
   ]
  },
  {
   "cell_type": "markdown",
   "metadata": {},
   "source": [
    "The dtypes weren't very helpful.  Let's using indexing to get one of the objects\n",
    "and use the Python type() function to inspect it.\n",
    "We can select a column (returned as a Series) like so:"
   ]
  },
  {
   "cell_type": "code",
   "execution_count": null,
   "metadata": {},
   "outputs": [],
   "source": [
    "glucose_readings[\"Timestamp\"].head()"
   ]
  },
  {
   "cell_type": "markdown",
   "metadata": {},
   "source": [
    "We can then select the first Timestamp by indexing again:"
   ]
  },
  {
   "cell_type": "code",
   "execution_count": null,
   "metadata": {},
   "outputs": [],
   "source": [
    "glucose_readings[\"Timestamp\"][0]"
   ]
  },
  {
   "cell_type": "markdown",
   "metadata": {},
   "source": [
    "Finally, we can check the type:"
   ]
  },
  {
   "cell_type": "code",
   "execution_count": null,
   "metadata": {},
   "outputs": [],
   "source": [
    "type(glucose_readings[\"Timestamp\"][0])"
   ]
  },
  {
   "cell_type": "markdown",
   "metadata": {},
   "source": [
    "Pandas was not able to properly parse the timestamp, so it saved the field\n",
    "as a str.  We can use Python's datetime library to parse it ourselves.\n",
    "\n",
    "https://docs.python.org/3/library/datetime.html\n",
    "\n",
    "https://docs.python.org/3/library/datetime.html#strftime-strptime-behavior\n",
    "\n",
    "The dt.datetime class provides a method called strptime(date_string, format)\n",
    "that can parse a timestap given a specification."
   ]
  },
  {
   "cell_type": "code",
   "execution_count": null,
   "metadata": {},
   "outputs": [],
   "source": [
    "format_str = \"%Y-%m-%d %I:%M %p\"\n",
    "dt.datetime.strptime(glucose_readings[\"Timestamp\"][0], format_str)"
   ]
  },
  {
   "cell_type": "markdown",
   "metadata": {},
   "source": [
    "Now that we know how to convert a single instance, we need to apply this to every instance in the Timestamp column."
   ]
  },
  {
   "cell_type": "code",
   "execution_count": null,
   "metadata": {},
   "outputs": [],
   "source": [
    "converted_timestamps = glucose_readings[\"Timestamp\"].map(lambda s: dt.datetime.strptime(s, format_str))\n",
    "converted_timestamps.head()"
   ]
  },
  {
   "cell_type": "markdown",
   "metadata": {},
   "source": [
    "The conversion looks correct (the dtype is a datetime object), so let's update our DataFrame by overwriting the original column with the new column."
   ]
  },
  {
   "cell_type": "code",
   "execution_count": null,
   "metadata": {},
   "outputs": [],
   "source": [
    "glucose_readings[\"Timestamp\"] = converted_timestamps\n",
    "glucose_readings.head()"
   ]
  },
  {
   "cell_type": "markdown",
   "metadata": {},
   "source": [
    "## Analyzing Relationship Between Blood Glucose and Time"
   ]
  },
  {
   "cell_type": "markdown",
   "metadata": {},
   "source": [
    "Let's begin exploring our data by plotting the glucose levels over time.  Pandas provides a number of convenience functions for creating plots.  These convenience functions call Matplotlib under the hood but handle data types like datetime objects more gracefully than Matplotlib alone."
   ]
  },
  {
   "cell_type": "code",
   "execution_count": null,
   "metadata": {},
   "outputs": [],
   "source": [
    "glucose_readings.plot.line(x = \"Timestamp\", y = \"Blood Glucose\")"
   ]
  },
  {
   "cell_type": "markdown",
   "metadata": {},
   "source": [
    "The blood glucose levels fluctuate quite a bit.  Let's try looking at a single week of readings. In Pandas, we can select rows based on the value of one of the columns.  In our case, we want to find rows that have a timestamp between June 1, 2016 and June 7, 2016. Datetime objects can be compared to each other, so we need to create start and ending datetime objects.  We then create a \"mask\" by comparing the timestamps to the starting and ending dates."
   ]
  },
  {
   "cell_type": "code",
   "execution_count": null,
   "metadata": {},
   "outputs": [],
   "source": [
    "start_date = dt.datetime(2016, 6, 1)\n",
    "end_date = start_date + dt.timedelta(days=7)\n",
    "mask = (start_date <= glucose_readings[\"Timestamp\"]) & (glucose_readings[\"Timestamp\"] < end_date)\n",
    "mask.head()"
   ]
  },
  {
   "cell_type": "markdown",
   "metadata": {},
   "source": [
    "We can see that the mask is a Pandas Series containing boolean (True / False) values indicating whether a given row satisfies the query or not.  We can then use this to index the DataFrame.  Note that, normally, the DataFrame expects either a single column name (str) or a list of column names as the argument to `[]` -- the mask (Series) is a special case."
   ]
  },
  {
   "cell_type": "code",
   "execution_count": null,
   "metadata": {},
   "outputs": [],
   "source": [
    "one_week = glucose_readings[mask]\n",
    "one_week.plot.line(x = \"Timestamp\", y = \"Blood Glucose\")"
   ]
  },
  {
   "cell_type": "markdown",
   "metadata": {},
   "source": [
    "From the plots of the blood glucose readings, we can generate several hypotheses:\n",
    "\n",
    "1. Blood Glucose is Decreasing Over the Time Range of the Data Set\n",
    "2. There is a Relationship between Blood Glucose and Time of Day\n",
    "3. There is a Relationship between Blood Glucose and the Day of the Week\n",
    "\n",
    "In the following subsections, we evaluate each hypothesis."
   ]
  },
  {
   "cell_type": "markdown",
   "metadata": {},
   "source": [
    "### Hypothesis 1: Blood Glucose is Decreasing Over the Time Range of the Data Set"
   ]
  },
  {
   "cell_type": "markdown",
   "metadata": {},
   "source": [
    "The blood glucose appears to have a downward trend over the total time range of the data set.  Let's verify these by fitting a linear regression model and interpreting the model.\n",
    "\n",
    "We need to convert the timestamps to a single number.  Let's find the first date, subtract this from every timestamp, and convert to days."
   ]
  },
  {
   "cell_type": "code",
   "execution_count": null,
   "metadata": {},
   "outputs": [],
   "source": [
    "start_date = glucose_readings[\"Timestamp\"].min()\n",
    "time_deltas = glucose_readings[\"Timestamp\"].map(lambda t: t - start_date)\n",
    "days_elapsed = time_deltas.map(lambda t: t.days + t.seconds / (24. * 36000.))\n",
    "days_elapsed.head(10)"
   ]
  },
  {
   "cell_type": "markdown",
   "metadata": {},
   "source": [
    "We can now fit a linear regression model.  We use the days elapsed since the start of the data set as the independent variable and the blood glucose as the dependent variable."
   ]
  },
  {
   "cell_type": "code",
   "execution_count": null,
   "metadata": {},
   "outputs": [],
   "source": [
    "glucose_readings[\"Days Elapsed\"] = days_elapsed\n",
    "slope, intercept, r, p_value, stderr = stats.linregress(glucose_readings[\"Days Elapsed\"],\n",
    "                                                        glucose_readings[\"Blood Glucose\"])\n",
    "print(\"Slope:\", slope)\n",
    "print(\"p-value:\", p_value)"
   ]
  },
  {
   "cell_type": "markdown",
   "metadata": {},
   "source": [
    "To use Panda's plotting functions, we need to add the predictions from the linear regression model to the DataFrame.  Note that the Days Elapsed is a Series.  Multiplying it by a scalar (scalar) produces another Series; this also happens when adding a scalar to the Series."
   ]
  },
  {
   "cell_type": "code",
   "execution_count": null,
   "metadata": {},
   "outputs": [],
   "source": [
    "glucose_readings[\"Linear Regression\"] = glucose_readings[\"Days Elapsed\"] * slope + intercept\n",
    "glucose_readings.head()"
   ]
  },
  {
   "cell_type": "markdown",
   "metadata": {},
   "source": [
    "Lastly, we plot the real Blood Glucose values against the predicted values from the linear regression model.  To plot multiple lines, we need to select the independent variable (Timestamp) plus the columns (Blood Glucose, Linear Regression) we want to plot.  We then call the plot.line function, specifying which column is the independent variable."
   ]
  },
  {
   "cell_type": "code",
   "execution_count": null,
   "metadata": {},
   "outputs": [],
   "source": [
    "glucose_readings[[\"Timestamp\", \"Blood Glucose\", \"Linear Regression\"]].plot.line(x=\"Timestamp\")"
   ]
  },
  {
   "cell_type": "markdown",
   "metadata": {},
   "source": [
    "Our linear regression model confirms that the average blood glucose does seem to be decreasing over the date range of the data set.  The p_value is clearly much less than 0.01, indicating that the model is statistically significant.  The slope is in units of glucose units per day -- we can interpret the slope to mean that the glucose levels are going down by 1.8 units per day, on average.  Lastly, when we plot the predictions from the linear regression model versus the true readings, we see that the line from the predictions clearly expose the downward trend.  We can consider our hypothesis to be validated."
   ]
  },
  {
   "cell_type": "markdown",
   "metadata": {},
   "source": [
    "### Hypothesis 2: There is a Relationship Between Blood Glucose and Time of Day"
   ]
  },
  {
   "cell_type": "markdown",
   "metadata": {},
   "source": [
    "There could be a trend by time of day.  Let's make a column giving the time of day for each record by extracting the hour of the day from the timestamp and then plot it."
   ]
  },
  {
   "cell_type": "code",
   "execution_count": null,
   "metadata": {},
   "outputs": [],
   "source": [
    "hour_of_day = glucose_readings[\"Timestamp\"].map(lambda t: t.hour)\n",
    "hour_of_day.head()"
   ]
  },
  {
   "cell_type": "code",
   "execution_count": null,
   "metadata": {},
   "outputs": [],
   "source": [
    "glucose_readings[\"Hour of Day\"] = hour_of_day\n",
    "glucose_readings.plot.scatter(x = \"Hour of Day\", y = \"Blood Glucose\")\n",
    "plt.ylim([0, 350])"
   ]
  },
  {
   "cell_type": "markdown",
   "metadata": {},
   "source": [
    "Our scatter plot is difficult to interpret due to how noisy the data is.  Let's try a box plot."
   ]
  },
  {
   "cell_type": "code",
   "execution_count": null,
   "metadata": {},
   "outputs": [],
   "source": [
    "glucose_readings.boxplot(by = \"Hour of Day\", column = \"Blood Glucose\")\n",
    "plt.ylim([0, 350])"
   ]
  },
  {
   "cell_type": "markdown",
   "metadata": {},
   "source": [
    "From the boxplot, we can conclude that blood glucose varies by time of day.  It tends to be higher in the mornings (6 - 10), lower in the afternoons (11 - 15), and high again in the evenings (21 -).  We see a bumb from 11 to 12, possibly from eating lunch.  Our hypothesis is validated."
   ]
  },
  {
   "cell_type": "markdown",
   "metadata": {},
   "source": [
    "### Hypothesis 3: There is a Relationship Between Blood Glucose and Day of the Week"
   ]
  },
  {
   "cell_type": "markdown",
   "metadata": {},
   "source": [
    "Lastly, we want to evaluate our hypothesis about a relationship between the blood glucose and day of the week.  Like with the time of day, we will create a new column with the day of the week of each record.  We will then using visualizations to explore the relationship between the day of the week and blood glucose readings."
   ]
  },
  {
   "cell_type": "code",
   "execution_count": null,
   "metadata": {},
   "outputs": [],
   "source": [
    "day_of_week = glucose_readings[\"Timestamp\"].map(lambda t: t.weekday())\n",
    "day_of_week.head(10)"
   ]
  },
  {
   "cell_type": "code",
   "execution_count": null,
   "metadata": {},
   "outputs": [],
   "source": [
    "glucose_readings[\"Day of Week\"] = day_of_week\n",
    "glucose_readings.boxplot(by = \"Day of Week\", column = \"Blood Glucose\")\n",
    "plt.ylim([0, 350])"
   ]
  },
  {
   "cell_type": "markdown",
   "metadata": {},
   "source": [
    "We can conclude that the blood glucose does not vary with the day of the week.  We can reject our hypothesis as false."
   ]
  },
  {
   "cell_type": "markdown",
   "metadata": {},
   "source": [
    "## Analyzing the Effect of Prior Activities"
   ]
  },
  {
   "cell_type": "markdown",
   "metadata": {},
   "source": [
    "We hypothesize that performing exercise prior to taking a glucose reading results in a lower blood glucose level. Let's explore the Prior Activity column and try to validate our hypothesis. Remember from before that Prior Activity is also an object:"
   ]
  },
  {
   "cell_type": "code",
   "execution_count": null,
   "metadata": {},
   "outputs": [],
   "source": [
    "glucose_readings.dtypes"
   ]
  },
  {
   "cell_type": "markdown",
   "metadata": {},
   "source": [
    "Let's see if we can see a value other than NaN if we look at more rows."
   ]
  },
  {
   "cell_type": "code",
   "execution_count": null,
   "metadata": {},
   "outputs": [],
   "source": [
    "glucose_readings.head(20)"
   ]
  },
  {
   "cell_type": "markdown",
   "metadata": {},
   "source": [
    "Let's replace the NaNs with a dummy value.  Let's assume that NaN means that there was no prior activity."
   ]
  },
  {
   "cell_type": "code",
   "execution_count": null,
   "metadata": {},
   "outputs": [],
   "source": [
    "filled = glucose_readings[\"Prior Activity\"].fillna(\"No Activity\")\n",
    "filled.head(20)"
   ]
  },
  {
   "cell_type": "markdown",
   "metadata": {},
   "source": [
    "We were successful, so let's update the DataFrame."
   ]
  },
  {
   "cell_type": "code",
   "execution_count": null,
   "metadata": {},
   "outputs": [],
   "source": [
    "glucose_readings[\"Prior Activity\"] = filled\n",
    "glucose_readings.head(20)"
   ]
  },
  {
   "cell_type": "markdown",
   "metadata": {},
   "source": [
    "It appears that Prior Activity should be a Categorical variable type.  Let's verify by counting the number of unique elements."
   ]
  },
  {
   "cell_type": "code",
   "execution_count": null,
   "metadata": {},
   "outputs": [],
   "source": [
    "glucose_readings[\"Prior Activity\"].nunique()"
   ]
  },
  {
   "cell_type": "markdown",
   "metadata": {},
   "source": [
    "It does seem like we have a categorical value.  Let's try converting it."
   ]
  },
  {
   "cell_type": "code",
   "execution_count": null,
   "metadata": {},
   "outputs": [],
   "source": [
    "glucose_readings[\"Prior Activity\"].astype(\"category\").head()"
   ]
  },
  {
   "cell_type": "markdown",
   "metadata": {},
   "source": [
    "Our conversion appears to be successful.  Pandas reports that it is a category with 6 values.  Let's update our DataFrame."
   ]
  },
  {
   "cell_type": "code",
   "execution_count": null,
   "metadata": {},
   "outputs": [],
   "source": [
    "converted = glucose_readings[\"Prior Activity\"].astype(\"category\")\n",
    "glucose_readings[\"Prior Activity\"] = converted\n",
    "glucose_readings.head(20)"
   ]
  },
  {
   "cell_type": "markdown",
   "metadata": {},
   "source": [
    "Lastly, let's use a boxplot to look at the distribution of blood glucose readings associated with each activity."
   ]
  },
  {
   "cell_type": "code",
   "execution_count": null,
   "metadata": {},
   "outputs": [],
   "source": [
    "glucose_readings.boxplot(by = \"Prior Activity\", column = \"Blood Glucose\")\n",
    "plt.ylim([0, 350])"
   ]
  },
  {
   "cell_type": "markdown",
   "metadata": {},
   "source": [
    "The distributions associated with each prior activity vary quite a bit.  Blood glucose readings taken without a priory activity appear to be higher versus when we perform an activity.  Kayaking seems to result in the lowest blood guclose level, while biking is the second lowest."
   ]
  },
  {
   "cell_type": "code",
   "execution_count": null,
   "metadata": {},
   "outputs": [],
   "source": []
  }
 ],
 "metadata": {
  "kernelspec": {
   "display_name": "Python 3",
   "language": "python",
   "name": "python3"
  },
  "language_info": {
   "codemirror_mode": {
    "name": "ipython",
    "version": 3
   },
   "file_extension": ".py",
   "mimetype": "text/x-python",
   "name": "python",
   "nbconvert_exporter": "python",
   "pygments_lexer": "ipython3",
   "version": "3.6.5"
  }
 },
 "nbformat": 4,
 "nbformat_minor": 2
}
